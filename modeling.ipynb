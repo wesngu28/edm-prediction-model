{
 "cells": [
  {
   "cell_type": "code",
   "execution_count": 1,
   "id": "247fcf04",
   "metadata": {},
   "outputs": [],
   "source": [
    "import pandas as pd\n",
    "import numpy as np\n",
    "import matplotlib.pyplot as plt\n",
    "from sklearn.preprocessing import LabelEncoder, MinMaxScaler\n",
    "from sklearn.model_selection import train_test_split, RandomizedSearchCV, GridSearchCV\n",
    "from sklearn.ensemble import RandomForestClassifier\n",
    "from sklearn.metrics import accuracy_score\n",
    "from sklearn.metrics import confusion_matrix\n",
    "import pickle"
   ]
  },
  {
   "cell_type": "code",
   "execution_count": 2,
   "id": "8114eda7",
   "metadata": {},
   "outputs": [],
   "source": [
    "data = pd.read_csv('outputs/edm_trimmed.csv')"
   ]
  },
  {
   "cell_type": "code",
   "execution_count": 3,
   "id": "ae89dd4b",
   "metadata": {},
   "outputs": [
    {
     "data": {
      "text/html": [
       "<div>\n",
       "<style scoped>\n",
       "    .dataframe tbody tr th:only-of-type {\n",
       "        vertical-align: middle;\n",
       "    }\n",
       "\n",
       "    .dataframe tbody tr th {\n",
       "        vertical-align: top;\n",
       "    }\n",
       "\n",
       "    .dataframe thead th {\n",
       "        text-align: right;\n",
       "    }\n",
       "</style>\n",
       "<table border=\"1\" class=\"dataframe\">\n",
       "  <thead>\n",
       "    <tr style=\"text-align: right;\">\n",
       "      <th></th>\n",
       "      <th>danceability</th>\n",
       "      <th>energy</th>\n",
       "      <th>loudness</th>\n",
       "      <th>speechiness</th>\n",
       "      <th>instrumentalness</th>\n",
       "      <th>liveness</th>\n",
       "      <th>valence</th>\n",
       "      <th>tempo</th>\n",
       "      <th>genre</th>\n",
       "    </tr>\n",
       "  </thead>\n",
       "  <tbody>\n",
       "    <tr>\n",
       "      <th>0</th>\n",
       "      <td>0.527</td>\n",
       "      <td>0.862</td>\n",
       "      <td>-3.684</td>\n",
       "      <td>0.0457</td>\n",
       "      <td>0.000024</td>\n",
       "      <td>0.1300</td>\n",
       "      <td>0.3480</td>\n",
       "      <td>130.081</td>\n",
       "      <td>progressivehouse</td>\n",
       "    </tr>\n",
       "    <tr>\n",
       "      <th>1</th>\n",
       "      <td>0.490</td>\n",
       "      <td>0.936</td>\n",
       "      <td>-4.575</td>\n",
       "      <td>0.0772</td>\n",
       "      <td>0.004460</td>\n",
       "      <td>0.3160</td>\n",
       "      <td>0.0891</td>\n",
       "      <td>132.013</td>\n",
       "      <td>progressivehouse</td>\n",
       "    </tr>\n",
       "    <tr>\n",
       "      <th>2</th>\n",
       "      <td>0.605</td>\n",
       "      <td>0.873</td>\n",
       "      <td>-5.938</td>\n",
       "      <td>0.0344</td>\n",
       "      <td>0.837000</td>\n",
       "      <td>0.3140</td>\n",
       "      <td>0.4760</td>\n",
       "      <td>126.026</td>\n",
       "      <td>progressivehouse</td>\n",
       "    </tr>\n",
       "    <tr>\n",
       "      <th>3</th>\n",
       "      <td>0.525</td>\n",
       "      <td>0.925</td>\n",
       "      <td>-7.213</td>\n",
       "      <td>0.0526</td>\n",
       "      <td>0.028500</td>\n",
       "      <td>0.0707</td>\n",
       "      <td>0.2030</td>\n",
       "      <td>128.015</td>\n",
       "      <td>progressivehouse</td>\n",
       "    </tr>\n",
       "    <tr>\n",
       "      <th>4</th>\n",
       "      <td>0.750</td>\n",
       "      <td>0.729</td>\n",
       "      <td>-6.060</td>\n",
       "      <td>0.0622</td>\n",
       "      <td>0.873000</td>\n",
       "      <td>0.0647</td>\n",
       "      <td>0.1660</td>\n",
       "      <td>126.997</td>\n",
       "      <td>progressivehouse</td>\n",
       "    </tr>\n",
       "  </tbody>\n",
       "</table>\n",
       "</div>"
      ],
      "text/plain": [
       "   danceability  energy  loudness  speechiness  instrumentalness  liveness  \\\n",
       "0         0.527   0.862    -3.684       0.0457          0.000024    0.1300   \n",
       "1         0.490   0.936    -4.575       0.0772          0.004460    0.3160   \n",
       "2         0.605   0.873    -5.938       0.0344          0.837000    0.3140   \n",
       "3         0.525   0.925    -7.213       0.0526          0.028500    0.0707   \n",
       "4         0.750   0.729    -6.060       0.0622          0.873000    0.0647   \n",
       "\n",
       "   valence    tempo             genre  \n",
       "0   0.3480  130.081  progressivehouse  \n",
       "1   0.0891  132.013  progressivehouse  \n",
       "2   0.4760  126.026  progressivehouse  \n",
       "3   0.2030  128.015  progressivehouse  \n",
       "4   0.1660  126.997  progressivehouse  "
      ]
     },
     "execution_count": 3,
     "metadata": {},
     "output_type": "execute_result"
    }
   ],
   "source": [
    "data.head()"
   ]
  },
  {
   "cell_type": "code",
   "execution_count": 4,
   "id": "fa5f476e",
   "metadata": {},
   "outputs": [
    {
     "data": {
      "text/plain": [
       "0       progressivehouse\n",
       "1       progressivehouse\n",
       "2       progressivehouse\n",
       "3       progressivehouse\n",
       "4       progressivehouse\n",
       "              ...       \n",
       "5575       tropicalhouse\n",
       "5576       tropicalhouse\n",
       "5577       tropicalhouse\n",
       "5578       tropicalhouse\n",
       "5579       tropicalhouse\n",
       "Name: genre, Length: 5580, dtype: object"
      ]
     },
     "execution_count": 4,
     "metadata": {},
     "output_type": "execute_result"
    }
   ],
   "source": [
    "features = ['danceability','energy','loudness','tempo','instrumentalness','liveness','speechiness','valence']\n",
    "genres = ['progressivehouse','basshouse','techhouse','bigroom','trance','futurebass','hardstyle','bounce','tropicalhouse','futurehouse']\n",
    "X = data[features]\n",
    "y = LabelEncoder().fit_transform(data['genre'])\n",
    "data['genre']"
   ]
  },
  {
   "cell_type": "code",
   "execution_count": 5,
   "id": "bfe31d10",
   "metadata": {},
   "outputs": [],
   "source": [
    "X_train, X_test, y_train, y_test = train_test_split(X, y, test_size=0.15, random_state=1, stratify=y)"
   ]
  },
  {
   "cell_type": "code",
   "execution_count": 6,
   "id": "37c483f0",
   "metadata": {},
   "outputs": [],
   "source": [
    "scaler = MinMaxScaler()\n",
    "scaler.fit(X_train)\n",
    "\n",
    "X_train = pd.DataFrame(scaler.transform(X_train), columns = X.columns)\n",
    "X_test = pd.DataFrame(scaler.transform(X_test), columns = X.columns)"
   ]
  },
  {
   "cell_type": "code",
   "execution_count": 7,
   "id": "6e420c7e",
   "metadata": {},
   "outputs": [],
   "source": [
    "rf = RandomForestClassifier(max_depth=20, min_samples_leaf=1, min_samples_split=5, n_estimators=1000)\n",
    "rf.fit(X_train, y_train)\n",
    "\n",
    "rf_train_probs = rf.predict_proba(X_train)\n",
    "rf_test_probs = rf.predict_proba(X_test)\n",
    "#First running with manual testing. Seems the model cannot peak 67% test and 98% train."
   ]
  },
  {
   "cell_type": "code",
   "execution_count": 8,
   "id": "7318ebb6",
   "metadata": {},
   "outputs": [
    {
     "name": "stdout",
     "output_type": "stream",
     "text": [
      "Train Accuracy: 0.98123550495467\n",
      "Test Accuracy: 0.6798088410991637\n"
     ]
    }
   ],
   "source": [
    "train_pred = np.argmax(rf_train_probs, axis=-1)\n",
    "test_pred = np.argmax(rf_test_probs, axis=-1)\n",
    "train_score = accuracy_score(y_train, train_pred)\n",
    "test_score = accuracy_score(y_test, test_pred)\n",
    "print(\"Train Accuracy:\", train_score)\n",
    "print(\"Test Accuracy:\", test_score)"
   ]
  },
  {
   "cell_type": "markdown",
   "id": "8640cba7",
   "metadata": {},
   "source": [
    "Running two randomized searches, one with a range of values and one with lists of values incremented in multiples of five or ten. Neither gave a better test accuracy (less than 1% and tanked train accuracy)."
   ]
  },
  {
   "cell_type": "code",
   "execution_count": 9,
   "id": "9d56919d",
   "metadata": {},
   "outputs": [],
   "source": [
    "#import numpy as np\n",
    "#params = {\n",
    "#    'max_depth': range(1,25),\n",
    "#    'n_estimators': range(1,1500),\n",
    "#    'min_samples_split': range(1, 25),\n",
    "#    'min_samples_leaf': range(1, 25),\n",
    "#}\n",
    "\n",
    "#rs = RandomizedSearchCV(rf, params, 5000, cv=3, random_state=1, n_jobs=4)\n",
    "#rs.fit(X_train, y_train)\n",
    "\n",
    "#rs.best_params_\n",
    "\n",
    "#rf1 = RandomForestClassifier(max_depth=24, min_samples_leaf=3, min_samples_split=17, n_estimators=506)\n",
    "#rf1.fit(X_train, y_train)\n",
    "\n",
    "#rf1_train_probs = rf1.predict_proba(X_train)\n",
    "#rf1_test_probs = rf1.predict_proba(X_test)\n",
    "\n",
    "#rf1_train_pred = np.argmax(rf1_train_probs, axis=-1)\n",
    "#rf1_test_pred = np.argmax(rf1_test_probs, axis=-1)\n",
    "#rf1_train_score = accuracy_score(y_train, rf1_train_pred)\n",
    "#rf1_test_score = accuracy_score(y_test, rf1_test_pred)\n",
    "#print(\"Train Accuracy:\", rf1_train_score)\n",
    "#print(\"Test Accuracy:\", rf1_test_score)\n",
    "\n",
    "#params = {\n",
    "#    'max_depth':[1,5,10,15,25],\n",
    "#    'n_estimators': [200,400,600,800,1200,1400,1500],\n",
    "#    'min_samples_split': [1,5,10,15,20,25],\n",
    "#    'min_samples_leaf': [1,2,5,10]\n",
    "#}\n",
    "\n",
    "#rs2 = RandomizedSearchCV(rf, params, 5000, cv=3, random_state=1, n_jobs=4)\n",
    "#rs2.fit(X_train, y_train)\n",
    "\n",
    "#rs2.best_params_\n",
    "\n",
    "#rf2 = RandomForestClassifier(max_depth=10, min_samples_leaf=1, min_samples_split=10, n_estimators=400)\n",
    "#rf2.fit(X_train, y_train)\n",
    "\n",
    "#rf2_train_probs = rf2.predict_proba(X_train)\n",
    "#rf2_test_probs = rf2.predict_proba(X_test)\n",
    "\n",
    "#rf2_train_pred = np.argmax(rf2_train_probs, axis=-1)\n",
    "#rf2_test_pred = np.argmax(rf2_test_probs, axis=-1)\n",
    "#rf2_train_score = accuracy_score(y_train, rf2_train_pred)\n",
    "#rf2_test_score = accuracy_score(y_test, rf2_test_pred)\n",
    "#print(\"Train Accuracy:\", rf2_train_score)\n",
    "#print(\"Test Accuracy:\", rf2_test_score)\n",
    "\n",
    "#grid_params = {\n",
    "#    'max_depth':[23,27],\n",
    "#    'min_samples_split': range(20, 28),\n",
    "#    'min_samples_leaf': range(1, 8),\n",
    "#    'max_features': [.4,.5,.6],\n",
    "#    'bootstrap': range(1),\n",
    "#    'warm_start': range(1),\n",
    "#}"
   ]
  },
  {
   "cell_type": "code",
   "execution_count": 10,
   "id": "fe78376a",
   "metadata": {},
   "outputs": [
    {
     "data": {
      "text/plain": [
       "array([[467,   2,   0,   0,   0,   0,   0,   5,   0,   0],\n",
       "       [  0, 449,  11,   0,   2,   0,  12,   0,   0,   0],\n",
       "       [  0,   6, 469,   0,   0,   0,   0,   0,   0,   0],\n",
       "       [  0,   0,   0, 468,   0,   2,   4,   0,   0,   0],\n",
       "       [  2,   4,   0,   0, 457,   0,   5,   6,   0,   0],\n",
       "       [  0,   0,   0,   0,   0, 474,   0,   0,   0,   0],\n",
       "       [  0,   5,   0,   0,   1,   0, 466,   0,   3,   0],\n",
       "       [  4,   0,   1,   0,   2,   0,   0, 467,   0,   0],\n",
       "       [  0,   0,   1,   0,   2,   0,   9,   0, 462,   0],\n",
       "       [  0,   0,   0,   0,   0,   0,   0,   0,   0, 475]], dtype=int64)"
      ]
     },
     "execution_count": 10,
     "metadata": {},
     "output_type": "execute_result"
    }
   ],
   "source": [
    "confusion_matrix(y_train, train_pred)"
   ]
  },
  {
   "cell_type": "code",
   "execution_count": 11,
   "id": "06c633e4",
   "metadata": {},
   "outputs": [
    {
     "data": {
      "text/plain": [
       "array([[31,  5, 14,  0, 14,  0,  0, 19,  1,  0],\n",
       "       [ 2, 41, 16,  3,  7,  0, 12,  0,  3,  0],\n",
       "       [ 3, 17, 56,  0,  0,  0,  1,  5,  1,  0],\n",
       "       [ 1,  0,  0, 67,  0, 10,  6,  0,  0,  0],\n",
       "       [10,  3,  8,  0, 33,  0, 11, 17,  2,  0],\n",
       "       [ 0,  2,  0,  8,  0, 73,  0,  0,  1,  0],\n",
       "       [ 0,  9,  3,  1,  8,  0, 60,  0,  2,  0],\n",
       "       [ 5,  1,  4,  0,  9,  0,  0, 63,  1,  1],\n",
       "       [ 2,  9,  0,  4,  1,  0,  3,  3, 62,  0],\n",
       "       [ 0,  0,  0,  0,  0,  0,  0,  0,  0, 83]], dtype=int64)"
      ]
     },
     "execution_count": 11,
     "metadata": {},
     "output_type": "execute_result"
    }
   ],
   "source": [
    "confusion_matrix(y_test, test_pred)"
   ]
  },
  {
   "cell_type": "code",
   "execution_count": 12,
   "id": "ae6641ec",
   "metadata": {},
   "outputs": [],
   "source": [
    "with open('final_model.pkl', 'wb') as f:\n",
    "    pickle.dump(rf, f)"
   ]
  },
  {
   "cell_type": "code",
   "execution_count": 13,
   "id": "b900d8cd",
   "metadata": {},
   "outputs": [],
   "source": [
    "validation_data = pd.read_csv('outputs/val_trimmed.csv')"
   ]
  },
  {
   "cell_type": "code",
   "execution_count": 14,
   "id": "033b5b60",
   "metadata": {},
   "outputs": [
    {
     "data": {
      "text/html": [
       "<div>\n",
       "<style scoped>\n",
       "    .dataframe tbody tr th:only-of-type {\n",
       "        vertical-align: middle;\n",
       "    }\n",
       "\n",
       "    .dataframe tbody tr th {\n",
       "        vertical-align: top;\n",
       "    }\n",
       "\n",
       "    .dataframe thead th {\n",
       "        text-align: right;\n",
       "    }\n",
       "</style>\n",
       "<table border=\"1\" class=\"dataframe\">\n",
       "  <thead>\n",
       "    <tr style=\"text-align: right;\">\n",
       "      <th></th>\n",
       "      <th>danceability</th>\n",
       "      <th>energy</th>\n",
       "      <th>loudness</th>\n",
       "      <th>speechiness</th>\n",
       "      <th>instrumentalness</th>\n",
       "      <th>liveness</th>\n",
       "      <th>valence</th>\n",
       "      <th>tempo</th>\n",
       "      <th>genre</th>\n",
       "    </tr>\n",
       "  </thead>\n",
       "  <tbody>\n",
       "    <tr>\n",
       "      <th>0</th>\n",
       "      <td>0.665</td>\n",
       "      <td>0.930</td>\n",
       "      <td>-3.543</td>\n",
       "      <td>0.1200</td>\n",
       "      <td>0.000023</td>\n",
       "      <td>0.178</td>\n",
       "      <td>0.461</td>\n",
       "      <td>127.985</td>\n",
       "      <td>progressivehouse</td>\n",
       "    </tr>\n",
       "    <tr>\n",
       "      <th>1</th>\n",
       "      <td>0.527</td>\n",
       "      <td>0.864</td>\n",
       "      <td>-3.115</td>\n",
       "      <td>0.0499</td>\n",
       "      <td>0.005990</td>\n",
       "      <td>0.207</td>\n",
       "      <td>0.422</td>\n",
       "      <td>129.200</td>\n",
       "      <td>progressivehouse</td>\n",
       "    </tr>\n",
       "    <tr>\n",
       "      <th>2</th>\n",
       "      <td>0.562</td>\n",
       "      <td>0.823</td>\n",
       "      <td>-5.471</td>\n",
       "      <td>0.0644</td>\n",
       "      <td>0.000000</td>\n",
       "      <td>0.136</td>\n",
       "      <td>0.365</td>\n",
       "      <td>128.144</td>\n",
       "      <td>progressivehouse</td>\n",
       "    </tr>\n",
       "    <tr>\n",
       "      <th>3</th>\n",
       "      <td>0.546</td>\n",
       "      <td>0.912</td>\n",
       "      <td>-3.447</td>\n",
       "      <td>0.1080</td>\n",
       "      <td>0.000001</td>\n",
       "      <td>0.333</td>\n",
       "      <td>0.469</td>\n",
       "      <td>127.984</td>\n",
       "      <td>progressivehouse</td>\n",
       "    </tr>\n",
       "    <tr>\n",
       "      <th>4</th>\n",
       "      <td>0.512</td>\n",
       "      <td>0.905</td>\n",
       "      <td>-4.296</td>\n",
       "      <td>0.1280</td>\n",
       "      <td>0.000001</td>\n",
       "      <td>0.339</td>\n",
       "      <td>0.334</td>\n",
       "      <td>128.009</td>\n",
       "      <td>progressivehouse</td>\n",
       "    </tr>\n",
       "  </tbody>\n",
       "</table>\n",
       "</div>"
      ],
      "text/plain": [
       "   danceability  energy  loudness  speechiness  instrumentalness  liveness  \\\n",
       "0         0.665   0.930    -3.543       0.1200          0.000023     0.178   \n",
       "1         0.527   0.864    -3.115       0.0499          0.005990     0.207   \n",
       "2         0.562   0.823    -5.471       0.0644          0.000000     0.136   \n",
       "3         0.546   0.912    -3.447       0.1080          0.000001     0.333   \n",
       "4         0.512   0.905    -4.296       0.1280          0.000001     0.339   \n",
       "\n",
       "   valence    tempo             genre  \n",
       "0    0.461  127.985  progressivehouse  \n",
       "1    0.422  129.200  progressivehouse  \n",
       "2    0.365  128.144  progressivehouse  \n",
       "3    0.469  127.984  progressivehouse  \n",
       "4    0.334  128.009  progressivehouse  "
      ]
     },
     "execution_count": 14,
     "metadata": {},
     "output_type": "execute_result"
    }
   ],
   "source": [
    "validation_data.head()"
   ]
  },
  {
   "cell_type": "code",
   "execution_count": 15,
   "id": "865cf57d",
   "metadata": {},
   "outputs": [],
   "source": [
    "features = ['danceability','energy','loudness','tempo','instrumentalness','liveness','speechiness','valence']\n",
    "genres = ['progressivehouse','basshouse','techhouse','bigroom','trance','futurebass','hardstyle','bounce','tropicalhouse','futurehouse']\n",
    "Xval = validation_data[features]\n",
    "yval = LabelEncoder().fit_transform(validation_data['genre'])"
   ]
  },
  {
   "cell_type": "code",
   "execution_count": 16,
   "id": "cabd529a",
   "metadata": {},
   "outputs": [],
   "source": [
    "Xval_train, Xval_test, yval_train, yval_test = train_test_split(Xval, yval, test_size=0.15, random_state=1, stratify=yval)"
   ]
  },
  {
   "cell_type": "code",
   "execution_count": 17,
   "id": "946b0d27",
   "metadata": {},
   "outputs": [],
   "source": [
    "scaler = MinMaxScaler()\n",
    "scaler.fit(Xval_train)\n",
    "\n",
    "X_train = pd.DataFrame(scaler.transform(Xval_train), columns = Xval.columns)\n",
    "X_test = pd.DataFrame(scaler.transform(Xval_test), columns = Xval.columns)"
   ]
  },
  {
   "cell_type": "code",
   "execution_count": 18,
   "id": "5bddb474",
   "metadata": {},
   "outputs": [],
   "source": [
    "rf = RandomForestClassifier(max_depth=25, min_samples_leaf=1, min_samples_split=5, n_estimators=1200)\n",
    "rf.fit(Xval_train, yval_train)\n",
    "\n",
    "rf_val_train_probs = rf.predict_proba(Xval_train)\n",
    "rf_val_test_probs = rf.predict_proba(Xval_test)"
   ]
  },
  {
   "cell_type": "code",
   "execution_count": 19,
   "id": "490813ae",
   "metadata": {},
   "outputs": [
    {
     "name": "stdout",
     "output_type": "stream",
     "text": [
      "Train Accuracy: 1.0\n",
      "Test Accuracy: 0.782608695652174\n"
     ]
    }
   ],
   "source": [
    "val_train_pred = np.argmax(rf_val_train_probs, axis=-1)\n",
    "val_test_pred = np.argmax(rf_val_test_probs, axis=-1)\n",
    "val_train_score = accuracy_score(yval_train, val_train_pred)\n",
    "val_test_score = accuracy_score(yval_test, val_test_pred)\n",
    "print(\"Train Accuracy:\", val_train_score)\n",
    "print(\"Test Accuracy:\", val_test_score)"
   ]
  },
  {
   "cell_type": "code",
   "execution_count": 20,
   "id": "fb177338",
   "metadata": {},
   "outputs": [
    {
     "data": {
      "text/plain": [
       "array([[13,  0,  0,  0,  0,  0,  0,  0,  0,  0],\n",
       "       [ 0, 13,  0,  0,  0,  0,  0,  0,  0,  0],\n",
       "       [ 0,  0, 13,  0,  0,  0,  0,  0,  0,  0],\n",
       "       [ 0,  0,  0, 13,  0,  0,  0,  0,  0,  0],\n",
       "       [ 0,  0,  0,  0, 13,  0,  0,  0,  0,  0],\n",
       "       [ 0,  0,  0,  0,  0, 12,  0,  0,  0,  0],\n",
       "       [ 0,  0,  0,  0,  0,  0, 13,  0,  0,  0],\n",
       "       [ 0,  0,  0,  0,  0,  0,  0, 12,  0,  0],\n",
       "       [ 0,  0,  0,  0,  0,  0,  0,  0, 12,  0],\n",
       "       [ 0,  0,  0,  0,  0,  0,  0,  0,  0, 13]], dtype=int64)"
      ]
     },
     "execution_count": 20,
     "metadata": {},
     "output_type": "execute_result"
    }
   ],
   "source": [
    "confusion_matrix(yval_train, val_train_pred)"
   ]
  },
  {
   "cell_type": "code",
   "execution_count": 21,
   "id": "000f89aa",
   "metadata": {},
   "outputs": [
    {
     "data": {
      "text/plain": [
       "array([[0, 0, 1, 0, 0, 0, 0, 1, 0, 0],\n",
       "       [0, 2, 0, 0, 0, 0, 0, 0, 0, 0],\n",
       "       [1, 0, 1, 0, 0, 0, 0, 0, 0, 0],\n",
       "       [0, 0, 0, 2, 0, 0, 0, 0, 0, 0],\n",
       "       [0, 0, 0, 0, 1, 0, 0, 1, 0, 0],\n",
       "       [0, 0, 0, 0, 0, 3, 0, 0, 0, 0],\n",
       "       [0, 0, 0, 0, 0, 0, 2, 0, 0, 0],\n",
       "       [0, 0, 0, 0, 1, 0, 0, 2, 0, 0],\n",
       "       [0, 0, 0, 0, 0, 0, 0, 0, 3, 0],\n",
       "       [0, 0, 0, 0, 0, 0, 0, 0, 0, 2]], dtype=int64)"
      ]
     },
     "execution_count": 21,
     "metadata": {},
     "output_type": "execute_result"
    }
   ],
   "source": [
    "confusion_matrix(yval_test, val_test_pred)"
   ]
  }
 ],
 "metadata": {
  "kernelspec": {
   "display_name": "Python 3 (ipykernel)",
   "language": "python",
   "name": "python3"
  },
  "language_info": {
   "codemirror_mode": {
    "name": "ipython",
    "version": 3
   },
   "file_extension": ".py",
   "mimetype": "text/x-python",
   "name": "python",
   "nbconvert_exporter": "python",
   "pygments_lexer": "ipython3",
   "version": "3.9.7"
  }
 },
 "nbformat": 4,
 "nbformat_minor": 5
}
