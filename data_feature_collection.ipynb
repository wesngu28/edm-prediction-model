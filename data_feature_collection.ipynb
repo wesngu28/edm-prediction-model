{
 "cells": [
  {
   "cell_type": "code",
   "execution_count": 1,
   "id": "4ea21f87",
   "metadata": {},
   "outputs": [],
   "source": [
    "import spotipy\n",
    "import os\n",
    "from spotipy.oauth2 import SpotifyClientCredentials\n",
    "import spotipy.util as util\n",
    "import pandas as pd"
   ]
  },
  {
   "cell_type": "code",
   "execution_count": 2,
   "id": "0f675609",
   "metadata": {},
   "outputs": [],
   "source": [
    "client_id = \"706f63df6ce2464a84798d54a4188fda\" \n",
    "client_secret = \"927e4b99ecd243c0a30d178084d0d4ac\"\n",
    "\n",
    "client_credentials_manager = SpotifyClientCredentials(client_id=client_id,client_secret=client_secret)\n",
    "sp = spotipy.Spotify(client_credentials_manager=client_credentials_manager)\n",
    "\n",
    "df = pd.concat(pd.read_excel('inputs/initial_songs.xlsx', sheet_name=None), ignore_index=True)"
   ]
  },
  {
   "cell_type": "code",
   "execution_count": 3,
   "id": "7f1539ca",
   "metadata": {},
   "outputs": [],
   "source": [
    "def extract_features(URL, genre):\n",
    "    genre = genre\n",
    "    playlist_id = URL\n",
    "    \n",
    "    playlist_tracks_data = sp.playlist_tracks(playlist_id)\n",
    "    tracks = playlist_tracks_data['items']\n",
    "    while playlist_tracks_data['next']:\n",
    "        playlist_tracks_data = sp.next(playlist_tracks_data)\n",
    "        tracks.extend(playlist_tracks_data['items'])\n",
    "        \n",
    "    playlist_tracks_id = []\n",
    "    playlist_tracks_titles = []\n",
    "    features = []\n",
    "\n",
    "    for track in tracks:\n",
    "        if(track['track']['id']!=None):\n",
    "            playlist_tracks_id.append(track['track']['id'])\n",
    "            playlist_tracks_titles.append(track['track']['name'])\n",
    "    \n",
    "    for i in range(0,len(playlist_tracks_id),50):\n",
    "        #spotipy for whatever reason can only handle 50 with audio_features\n",
    "        audio_features = sp.audio_features(playlist_tracks_id[i:i+50])\n",
    "        \n",
    "        for track in audio_features:\n",
    "            features.append(track)\n",
    "    \n",
    "    df = pd.DataFrame(features)\n",
    "    df['genre'] = genre\n",
    "    df['title'] = playlist_tracks_titles\n",
    "    return df"
   ]
  },
  {
   "cell_type": "code",
   "execution_count": 4,
   "id": "4d167362",
   "metadata": {},
   "outputs": [],
   "source": [
    "def create_df(playlist_csv):\n",
    "    result = pd.DataFrame()\n",
    "    \n",
    "    # Extract songs from spotify API and append to dataframe\n",
    "    for i in range(len(playlist_csv)):\n",
    "        df = extract_features(playlist_csv['playlistid'][i], playlist_csv['genre'][i])\n",
    "        result = pd.concat([result, df], ignore_index=True)\n",
    "        \n",
    "    return result"
   ]
  },
  {
   "cell_type": "code",
   "execution_count": 5,
   "id": "f756c7f9",
   "metadata": {},
   "outputs": [],
   "source": [
    "songs = create_df(df)"
   ]
  },
  {
   "cell_type": "code",
   "execution_count": 6,
   "id": "5fe9d0f1",
   "metadata": {},
   "outputs": [],
   "source": [
    "songs.to_csv('outputs/edm_songs.csv')"
   ]
  },
  {
   "cell_type": "code",
   "execution_count": 7,
   "id": "e726a201",
   "metadata": {},
   "outputs": [],
   "source": [
    "validation_df = pd.concat(pd.read_excel('inputs/val_set_songs.xlsx', sheet_name=None), ignore_index=True)\n",
    "validation_songs = create_df(validation_df)\n",
    "validation_songs.to_csv('outputs/validation_songs.csv')"
   ]
  }
 ],
 "metadata": {
  "kernelspec": {
   "display_name": "Python 3 (ipykernel)",
   "language": "python",
   "name": "python3"
  },
  "language_info": {
   "codemirror_mode": {
    "name": "ipython",
    "version": 3
   },
   "file_extension": ".py",
   "mimetype": "text/x-python",
   "name": "python",
   "nbconvert_exporter": "python",
   "pygments_lexer": "ipython3",
   "version": "3.9.7"
  }
 },
 "nbformat": 4,
 "nbformat_minor": 5
}
